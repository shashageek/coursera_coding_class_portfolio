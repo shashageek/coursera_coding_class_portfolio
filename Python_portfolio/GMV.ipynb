{
 "cells": [
  {
   "cell_type": "code",
   "execution_count": 13,
   "metadata": {},
   "outputs": [
    {
     "name": "stdout",
     "output_type": "stream",
     "text": [
      "The autoreload extension is already loaded. To reload it, use:\n",
      "  %reload_ext autoreload\n"
     ]
    }
   ],
   "source": [
    "%load_ext autoreload\n",
    "%autoreload 2\n",
    "%matplotlib inline\n",
    "import numpy as np\n",
    "import pandas as pd\n",
    "import edhec_risk_kit as erk\n",
    "from scipy.optimize import minimize"
   ]
  },
  {
   "cell_type": "code",
   "execution_count": 14,
   "metadata": {},
   "outputs": [
    {
     "data": {
      "text/html": [
       "<div>\n",
       "<style scoped>\n",
       "    .dataframe tbody tr th:only-of-type {\n",
       "        vertical-align: middle;\n",
       "    }\n",
       "\n",
       "    .dataframe tbody tr th {\n",
       "        vertical-align: top;\n",
       "    }\n",
       "\n",
       "    .dataframe thead th {\n",
       "        text-align: right;\n",
       "    }\n",
       "</style>\n",
       "<table border=\"1\" class=\"dataframe\">\n",
       "  <thead>\n",
       "    <tr style=\"text-align: right;\">\n",
       "      <th></th>\n",
       "      <th>SP500</th>\n",
       "      <th>MSCI_EM_Return</th>\n",
       "      <th>MSCI_EU_Return</th>\n",
       "      <th>SovDebtReturn</th>\n",
       "      <th>Global_Agg_Return</th>\n",
       "      <th>Gold_Return</th>\n",
       "    </tr>\n",
       "    <tr>\n",
       "      <th>Date</th>\n",
       "      <th></th>\n",
       "      <th></th>\n",
       "      <th></th>\n",
       "      <th></th>\n",
       "      <th></th>\n",
       "      <th></th>\n",
       "    </tr>\n",
       "  </thead>\n",
       "  <tbody>\n",
       "    <tr>\n",
       "      <th>2011-07</th>\n",
       "      <td>-0.020</td>\n",
       "      <td>-0.004</td>\n",
       "      <td>-0.034</td>\n",
       "      <td>0.018</td>\n",
       "      <td>0.011</td>\n",
       "      <td>0.084</td>\n",
       "    </tr>\n",
       "    <tr>\n",
       "      <th>2011-08</th>\n",
       "      <td>-0.054</td>\n",
       "      <td>-0.089</td>\n",
       "      <td>-0.100</td>\n",
       "      <td>0.000</td>\n",
       "      <td>0.012</td>\n",
       "      <td>0.123</td>\n",
       "    </tr>\n",
       "    <tr>\n",
       "      <th>2011-09</th>\n",
       "      <td>-0.070</td>\n",
       "      <td>-0.146</td>\n",
       "      <td>-0.110</td>\n",
       "      <td>-0.044</td>\n",
       "      <td>0.006</td>\n",
       "      <td>-0.114</td>\n",
       "    </tr>\n",
       "    <tr>\n",
       "      <th>2011-10</th>\n",
       "      <td>0.109</td>\n",
       "      <td>0.132</td>\n",
       "      <td>0.121</td>\n",
       "      <td>0.044</td>\n",
       "      <td>-0.001</td>\n",
       "      <td>0.063</td>\n",
       "    </tr>\n",
       "    <tr>\n",
       "      <th>2011-11</th>\n",
       "      <td>-0.002</td>\n",
       "      <td>-0.067</td>\n",
       "      <td>-0.045</td>\n",
       "      <td>-0.009</td>\n",
       "      <td>-0.005</td>\n",
       "      <td>0.013</td>\n",
       "    </tr>\n",
       "  </tbody>\n",
       "</table>\n",
       "</div>"
      ],
      "text/plain": [
       "         SP500  MSCI_EM_Return  MSCI_EU_Return  SovDebtReturn  \\\n",
       "Date                                                            \n",
       "2011-07 -0.020          -0.004          -0.034          0.018   \n",
       "2011-08 -0.054          -0.089          -0.100          0.000   \n",
       "2011-09 -0.070          -0.146          -0.110         -0.044   \n",
       "2011-10  0.109           0.132           0.121          0.044   \n",
       "2011-11 -0.002          -0.067          -0.045         -0.009   \n",
       "\n",
       "         Global_Agg_Return  Gold_Return  \n",
       "Date                                     \n",
       "2011-07              0.011        0.084  \n",
       "2011-08              0.012        0.123  \n",
       "2011-09              0.006       -0.114  \n",
       "2011-10             -0.001        0.063  \n",
       "2011-11             -0.005        0.013  "
      ]
     },
     "execution_count": 14,
     "metadata": {},
     "output_type": "execute_result"
    }
   ],
   "source": [
    "return_m = pd.read_csv(\"data/Return.csv\",\n",
    "                     header = 0, index_col = 0, parse_dates = True, na_values = -99.99\n",
    "                     )\n",
    "return_m.index = pd.to_datetime(return_m.index, format=\"%Y%m\").to_period('M')\n",
    "return_m.columns = return_m.columns.str.strip()\n",
    "return_m = return_m[['SP500','MSCI_EM_Return','MSCI_EU_Return','SovDebtReturn','Global_Agg_Return','Gold_Return']]\n",
    "return_m.head()"
   ]
  },
  {
   "cell_type": "code",
   "execution_count": 15,
   "metadata": {},
   "outputs": [],
   "source": [
    "er = erk.annualize_rets(return_m,12)\n",
    "cov=return_m.cov()"
   ]
  },
  {
   "cell_type": "code",
   "execution_count": 16,
   "metadata": {},
   "outputs": [
    {
     "data": {
      "text/plain": [
       "array([4.06008293e-02, 9.24838878e-14, 0.00000000e+00, 2.02790261e-13,\n",
       "       9.59399198e-01, 4.06604813e-13])"
      ]
     },
     "execution_count": 16,
     "metadata": {},
     "output_type": "execute_result"
    }
   ],
   "source": [
    "erk.gmv(cov)"
   ]
  },
  {
   "cell_type": "code",
   "execution_count": 17,
   "metadata": {},
   "outputs": [
    {
     "data": {
      "text/plain": [
       "<AxesSubplot:xlabel='Volatility'>"
      ]
     },
     "execution_count": 17,
     "metadata": {},
     "output_type": "execute_result"
    },
    {
     "data": {
      "image/png": "[encoded data removed]",
      "text/plain": [
       "<Figure size 432x288 with 1 Axes>"
      ]
     },
     "metadata": {
      "needs_background": "light"
     },
     "output_type": "display_data"
    }
   ],
   "source": [
    "erk.plot_ef(20, er, cov, show_cml = True, riskfree_rate=0.0205, show_ew=True, show_gmv=True)"
   ]
  },
  {
   "cell_type": "code",
   "execution_count": null,
   "metadata": {},
   "outputs": [],
   "source": []
  }
 ],
 "metadata": {
  "kernelspec": {
   "display_name": "Python 3",
   "language": "python",
   "name": "python3"
  },
  "language_info": {
   "codemirror_mode": {
    "name": "ipython",
    "version": 3
   },
   "file_extension": ".py",
   "mimetype": "text/x-python",
   "name": "python",
   "nbconvert_exporter": "python",
   "pygments_lexer": "ipython3",
   "version": "3.8.5"
  }
 },
 "nbformat": 4,
 "nbformat_minor": 4
}
