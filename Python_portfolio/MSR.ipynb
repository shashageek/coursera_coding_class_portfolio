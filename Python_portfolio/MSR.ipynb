{
 "cells": [
  {
   "cell_type": "code",
   "execution_count": 1,
   "metadata": {},
   "outputs": [],
   "source": [
    "%load_ext autoreload\n",
    "%autoreload 2\n",
    "%matplotlib inline\n"
   ]
  },
  {
   "cell_type": "code",
   "execution_count": 2,
   "metadata": {},
   "outputs": [],
   "source": [
    "from scipy.optimize import minimize\n",
    "import numpy as np\n",
    "import pandas as pd\n",
    "import edhec_risk_kit as erk"
   ]
  },
  {
   "cell_type": "code",
   "execution_count": 3,
   "metadata": {},
   "outputs": [
    {
     "data": {
      "text/html": [
       "<div>\n",
       "<style scoped>\n",
       "    .dataframe tbody tr th:only-of-type {\n",
       "        vertical-align: middle;\n",
       "    }\n",
       "\n",
       "    .dataframe tbody tr th {\n",
       "        vertical-align: top;\n",
       "    }\n",
       "\n",
       "    .dataframe thead th {\n",
       "        text-align: right;\n",
       "    }\n",
       "</style>\n",
       "<table border=\"1\" class=\"dataframe\">\n",
       "  <thead>\n",
       "    <tr style=\"text-align: right;\">\n",
       "      <th></th>\n",
       "      <th>SP500</th>\n",
       "      <th>MSCI_EM_Return</th>\n",
       "      <th>MSCI_EU_Return</th>\n",
       "      <th>SovDebtReturn</th>\n",
       "      <th>Global_Agg_Return</th>\n",
       "      <th>Gold_Return</th>\n",
       "    </tr>\n",
       "    <tr>\n",
       "      <th>Date</th>\n",
       "      <th></th>\n",
       "      <th></th>\n",
       "      <th></th>\n",
       "      <th></th>\n",
       "      <th></th>\n",
       "      <th></th>\n",
       "    </tr>\n",
       "  </thead>\n",
       "  <tbody>\n",
       "    <tr>\n",
       "      <th>2011-07</th>\n",
       "      <td>-0.020</td>\n",
       "      <td>-0.004</td>\n",
       "      <td>-0.034</td>\n",
       "      <td>0.018</td>\n",
       "      <td>0.011</td>\n",
       "      <td>0.084</td>\n",
       "    </tr>\n",
       "    <tr>\n",
       "      <th>2011-08</th>\n",
       "      <td>-0.054</td>\n",
       "      <td>-0.089</td>\n",
       "      <td>-0.100</td>\n",
       "      <td>0.000</td>\n",
       "      <td>0.012</td>\n",
       "      <td>0.123</td>\n",
       "    </tr>\n",
       "    <tr>\n",
       "      <th>2011-09</th>\n",
       "      <td>-0.070</td>\n",
       "      <td>-0.146</td>\n",
       "      <td>-0.110</td>\n",
       "      <td>-0.044</td>\n",
       "      <td>0.006</td>\n",
       "      <td>-0.114</td>\n",
       "    </tr>\n",
       "    <tr>\n",
       "      <th>2011-10</th>\n",
       "      <td>0.109</td>\n",
       "      <td>0.132</td>\n",
       "      <td>0.121</td>\n",
       "      <td>0.044</td>\n",
       "      <td>-0.001</td>\n",
       "      <td>0.063</td>\n",
       "    </tr>\n",
       "    <tr>\n",
       "      <th>2011-11</th>\n",
       "      <td>-0.002</td>\n",
       "      <td>-0.067</td>\n",
       "      <td>-0.045</td>\n",
       "      <td>-0.009</td>\n",
       "      <td>-0.005</td>\n",
       "      <td>0.013</td>\n",
       "    </tr>\n",
       "  </tbody>\n",
       "</table>\n",
       "</div>"
      ],
      "text/plain": [
       "         SP500  MSCI_EM_Return  MSCI_EU_Return  SovDebtReturn  \\\n",
       "Date                                                            \n",
       "2011-07 -0.020          -0.004          -0.034          0.018   \n",
       "2011-08 -0.054          -0.089          -0.100          0.000   \n",
       "2011-09 -0.070          -0.146          -0.110         -0.044   \n",
       "2011-10  0.109           0.132           0.121          0.044   \n",
       "2011-11 -0.002          -0.067          -0.045         -0.009   \n",
       "\n",
       "         Global_Agg_Return  Gold_Return  \n",
       "Date                                     \n",
       "2011-07              0.011        0.084  \n",
       "2011-08              0.012        0.123  \n",
       "2011-09              0.006       -0.114  \n",
       "2011-10             -0.001        0.063  \n",
       "2011-11             -0.005        0.013  "
      ]
     },
     "execution_count": 3,
     "metadata": {},
     "output_type": "execute_result"
    }
   ],
   "source": [
    "return_m = pd.read_csv(\"data/Return.csv\",\n",
    "                     header = 0, index_col = 0, parse_dates = True, na_values = -99.99\n",
    "                     )\n",
    "return_m.index = pd.to_datetime(return_m.index, format=\"%Y%m\").to_period('M')\n",
    "return_m.columns = return_m.columns.str.strip()\n",
    "return_m = return_m[['SP500','MSCI_EM_Return','MSCI_EU_Return','SovDebtReturn','Global_Agg_Return','Gold_Return']]\n",
    "return_m.head()"
   ]
  },
  {
   "cell_type": "code",
   "execution_count": 4,
   "metadata": {},
   "outputs": [
    {
     "data": {
      "text/plain": [
       "SP500                0.148171\n",
       "MSCI_EM_Return       0.043252\n",
       "MSCI_EU_Return       0.055677\n",
       "SovDebtReturn        0.053898\n",
       "Global_Agg_Return    0.038509\n",
       "Gold_Return          0.007973\n",
       "dtype: float64"
      ]
     },
     "execution_count": 4,
     "metadata": {},
     "output_type": "execute_result"
    }
   ],
   "source": [
    "er = erk.annualize_rets(return_m,12)\n",
    "cov=return_m.cov()\n",
    "er"
   ]
  },
  {
   "cell_type": "code",
   "execution_count": 5,
   "metadata": {},
   "outputs": [
    {
     "data": {
      "text/html": [
       "<div>\n",
       "<style scoped>\n",
       "    .dataframe tbody tr th:only-of-type {\n",
       "        vertical-align: middle;\n",
       "    }\n",
       "\n",
       "    .dataframe tbody tr th {\n",
       "        vertical-align: top;\n",
       "    }\n",
       "\n",
       "    .dataframe thead th {\n",
       "        text-align: right;\n",
       "    }\n",
       "</style>\n",
       "<table border=\"1\" class=\"dataframe\">\n",
       "  <thead>\n",
       "    <tr style=\"text-align: right;\">\n",
       "      <th></th>\n",
       "      <th>SP500</th>\n",
       "      <th>MSCI_EM_Return</th>\n",
       "      <th>MSCI_EU_Return</th>\n",
       "      <th>SovDebtReturn</th>\n",
       "      <th>Global_Agg_Return</th>\n",
       "      <th>Gold_Return</th>\n",
       "    </tr>\n",
       "  </thead>\n",
       "  <tbody>\n",
       "    <tr>\n",
       "      <th>SP500</th>\n",
       "      <td>0.001534</td>\n",
       "      <td>0.001478</td>\n",
       "      <td>0.001587</td>\n",
       "      <td>0.000511</td>\n",
       "      <td>-0.000005</td>\n",
       "      <td>0.000108</td>\n",
       "    </tr>\n",
       "    <tr>\n",
       "      <th>MSCI_EM_Return</th>\n",
       "      <td>0.001478</td>\n",
       "      <td>0.002598</td>\n",
       "      <td>0.001947</td>\n",
       "      <td>0.000813</td>\n",
       "      <td>0.000036</td>\n",
       "      <td>0.000707</td>\n",
       "    </tr>\n",
       "    <tr>\n",
       "      <th>MSCI_EU_Return</th>\n",
       "      <td>0.001587</td>\n",
       "      <td>0.001947</td>\n",
       "      <td>0.002273</td>\n",
       "      <td>0.000701</td>\n",
       "      <td>-0.000007</td>\n",
       "      <td>0.000303</td>\n",
       "    </tr>\n",
       "    <tr>\n",
       "      <th>SovDebtReturn</th>\n",
       "      <td>0.000511</td>\n",
       "      <td>0.000813</td>\n",
       "      <td>0.000701</td>\n",
       "      <td>0.000535</td>\n",
       "      <td>0.000090</td>\n",
       "      <td>0.000365</td>\n",
       "    </tr>\n",
       "    <tr>\n",
       "      <th>Global_Agg_Return</th>\n",
       "      <td>-0.000005</td>\n",
       "      <td>0.000036</td>\n",
       "      <td>-0.000007</td>\n",
       "      <td>0.000090</td>\n",
       "      <td>0.000060</td>\n",
       "      <td>0.000131</td>\n",
       "    </tr>\n",
       "    <tr>\n",
       "      <th>Gold_Return</th>\n",
       "      <td>0.000108</td>\n",
       "      <td>0.000707</td>\n",
       "      <td>0.000303</td>\n",
       "      <td>0.000365</td>\n",
       "      <td>0.000131</td>\n",
       "      <td>0.002196</td>\n",
       "    </tr>\n",
       "  </tbody>\n",
       "</table>\n",
       "</div>"
      ],
      "text/plain": [
       "                      SP500  MSCI_EM_Return  MSCI_EU_Return  SovDebtReturn  \\\n",
       "SP500              0.001534        0.001478        0.001587       0.000511   \n",
       "MSCI_EM_Return     0.001478        0.002598        0.001947       0.000813   \n",
       "MSCI_EU_Return     0.001587        0.001947        0.002273       0.000701   \n",
       "SovDebtReturn      0.000511        0.000813        0.000701       0.000535   \n",
       "Global_Agg_Return -0.000005        0.000036       -0.000007       0.000090   \n",
       "Gold_Return        0.000108        0.000707        0.000303       0.000365   \n",
       "\n",
       "                   Global_Agg_Return  Gold_Return  \n",
       "SP500                      -0.000005     0.000108  \n",
       "MSCI_EM_Return              0.000036     0.000707  \n",
       "MSCI_EU_Return             -0.000007     0.000303  \n",
       "SovDebtReturn               0.000090     0.000365  \n",
       "Global_Agg_Return           0.000060     0.000131  \n",
       "Gold_Return                 0.000131     0.002196  "
      ]
     },
     "execution_count": 5,
     "metadata": {},
     "output_type": "execute_result"
    }
   ],
   "source": [
    "cov"
   ]
  },
  {
   "cell_type": "code",
   "execution_count": 6,
   "metadata": {},
   "outputs": [],
   "source": [
    "from scipy.optimize import minimize\n",
    "def msr(riskfree_rate, er, cov):\n",
    "    \"\"\"\n",
    "    RiskFree rate + ER + COV -> W\n",
    "    \"\"\"\n",
    "    n = er.shape[0]\n",
    "    init_guess = np.repeat (1/n,n)\n",
    "    bounds = ((0.0, 1.0),)*n\n",
    "    weights_sum_to_1 = {\n",
    "        'type': 'eq',\n",
    "        'fun': lambda weights: np.sum(weights) - 1\n",
    "    }\n",
    "    def neg_sharpe_ratio(weights, riskfree_rate, er, cov):\n",
    "        \"\"\"\n",
    "        Returns the negative of the sharpe ratios, given weights\n",
    "        \"\"\"\n",
    "        r = erk.portfolio_return(weights, er)\n",
    "        vol = erk.portfolio_vol(weights, cov)\n",
    "        return -(r-riskfree_rate)/vol\n",
    "    \n",
    "    results = minimize(neg_sharpe_ratio, init_guess, \n",
    "                       args = (riskfree_rate, er,cov,), method=\"SLSQP\",\n",
    "                       options = {'disp': False},\n",
    "                       constraints=(weights_sum_to_1),\n",
    "                       bounds=bounds\n",
    "                      )\n",
    "    return results.x"
   ]
  },
  {
   "cell_type": "code",
   "execution_count": 7,
   "metadata": {},
   "outputs": [
    {
     "data": {
      "text/plain": [
       "[<matplotlib.lines.Line2D at 0x127d4b9a0>]"
      ]
     },
     "execution_count": 7,
     "metadata": {},
     "output_type": "execute_result"
    },
    {
     "data": {
      "image/png": "[encoded data removed]",
      "text/plain": [
       "<Figure size 432x288 with 1 Axes>"
      ]
     },
     "metadata": {
      "needs_background": "light"
     },
     "output_type": "display_data"
    }
   ],
   "source": [
    "ax = erk.plot_ef(20, er, cov)\n",
    "ax.set_xlim(left = 0)\n",
    "rf = 0.0205\n",
    "w_msr = msr(rf, er, cov)\n",
    "r_msr = erk.portfolio_return(w_msr, er)\n",
    "vol_msr = erk.portfolio_vol(w_msr, cov)\n",
    "# Add CML\n",
    "cml_x = [0, vol_msr]\n",
    "cml_y = [rf, r_msr]\n",
    "ax.plot(cml_x, cml_y, color = \"green\", marker = \"o\", linestyle = \"dashed\")"
   ]
  },
  {
   "cell_type": "code",
   "execution_count": 8,
   "metadata": {},
   "outputs": [
    {
     "data": {
      "text/plain": [
       "array([2.14598757e-01, 0.00000000e+00, 0.00000000e+00, 1.60172440e-14,\n",
       "       7.85401243e-01, 7.63390002e-14])"
      ]
     },
     "execution_count": 8,
     "metadata": {},
     "output_type": "execute_result"
    }
   ],
   "source": [
    "w_msr"
   ]
  },
  {
   "cell_type": "code",
   "execution_count": 10,
   "metadata": {},
   "outputs": [
    {
     "data": {
      "text/plain": [
       "4.040349224255933"
      ]
     },
     "execution_count": 10,
     "metadata": {},
     "output_type": "execute_result"
    }
   ],
   "source": [
    "(r_msr-0.0205)/vol_msr"
   ]
  },
  {
   "cell_type": "code",
   "execution_count": 12,
   "metadata": {},
   "outputs": [
    {
     "data": {
      "text/plain": [
       "0.010281783041159832"
      ]
     },
     "execution_count": 12,
     "metadata": {},
     "output_type": "execute_result"
    }
   ],
   "source": [
    "r_msr\n",
    "vol_msr"
   ]
  },
  {
   "cell_type": "markdown",
   "metadata": {},
   "source": [
    "benchmark_weights = ([0.5,0.5])\n",
    "benchmark_return = erk.portfolio_return(benchmark_weights, return_m[])\n",
    "        vol = portfolio_vol(weights, cov)\n",
    "        return -(r-riskfree_rate)/vol"
   ]
  }
 ],
 "metadata": {
  "kernelspec": {
   "display_name": "Python 3",
   "language": "python",
   "name": "python3"
  },
  "language_info": {
   "codemirror_mode": {
    "name": "ipython",
    "version": 3
   },
   "file_extension": ".py",
   "mimetype": "text/x-python",
   "name": "python",
   "nbconvert_exporter": "python",
   "pygments_lexer": "ipython3",
   "version": "3.8.5"
  }
 },
 "nbformat": 4,
 "nbformat_minor": 4
}
